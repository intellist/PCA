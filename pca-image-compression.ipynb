{
 "cells": [
  {
   "cell_type": "markdown",
   "id": "mysterious-polyester",
   "metadata": {
    "papermill": {
     "duration": 0.013774,
     "end_time": "2021-04-18T07:30:54.913066",
     "exception": false,
     "start_time": "2021-04-18T07:30:54.899292",
     "status": "completed"
    },
    "tags": []
   },
   "source": [
    "## In this notebook image compression using PCA is demonstrated."
   ]
  },
  {
   "cell_type": "code",
   "execution_count": 1,
   "id": "judicial-touch",
   "metadata": {
    "execution": {
     "iopub.execute_input": "2021-04-18T07:30:54.942581Z",
     "iopub.status.busy": "2021-04-18T07:30:54.941413Z",
     "iopub.status.idle": "2021-04-18T07:30:54.946554Z",
     "shell.execute_reply": "2021-04-18T07:30:54.945863Z"
    },
    "papermill": {
     "duration": 0.020887,
     "end_time": "2021-04-18T07:30:54.946706",
     "exception": false,
     "start_time": "2021-04-18T07:30:54.925819",
     "status": "completed"
    },
    "tags": []
   },
   "outputs": [],
   "source": [
    "import numpy as np\n",
    "import matplotlib.pyplot as plt\n",
    "from numpy import linalg as LA\n",
    "import os"
   ]
  },
  {
   "cell_type": "code",
   "execution_count": 2,
   "id": "textile-sharing",
   "metadata": {
    "execution": {
     "iopub.execute_input": "2021-04-18T07:30:54.977036Z",
     "iopub.status.busy": "2021-04-18T07:30:54.976407Z",
     "iopub.status.idle": "2021-04-18T07:30:55.248772Z",
     "shell.execute_reply": "2021-04-18T07:30:55.248082Z"
    },
    "papermill": {
     "duration": 0.289384,
     "end_time": "2021-04-18T07:30:55.248929",
     "exception": false,
     "start_time": "2021-04-18T07:30:54.959545",
     "status": "completed"
    },
    "tags": []
   },
   "outputs": [],
   "source": [
    "dirname = '/kaggle/input/olivetti'\n",
    "fileName = 'olivetti_faces.npy'\n",
    "faces = np.load(os.path.join(dirname,fileName))"
   ]
  },
  {
   "cell_type": "code",
   "execution_count": 3,
   "id": "another-democracy",
   "metadata": {
    "execution": {
     "iopub.execute_input": "2021-04-18T07:30:55.282251Z",
     "iopub.status.busy": "2021-04-18T07:30:55.281603Z",
     "iopub.status.idle": "2021-04-18T07:30:55.285993Z",
     "shell.execute_reply": "2021-04-18T07:30:55.285363Z"
    },
    "papermill": {
     "duration": 0.02405,
     "end_time": "2021-04-18T07:30:55.286126",
     "exception": false,
     "start_time": "2021-04-18T07:30:55.262076",
     "status": "completed"
    },
    "tags": []
   },
   "outputs": [
    {
     "data": {
      "text/plain": [
       "(400, 64, 64)"
      ]
     },
     "execution_count": 3,
     "metadata": {},
     "output_type": "execute_result"
    }
   ],
   "source": [
    "faces.shape"
   ]
  },
  {
   "cell_type": "code",
   "execution_count": 4,
   "id": "preceding-manhattan",
   "metadata": {
    "execution": {
     "iopub.execute_input": "2021-04-18T07:30:55.332857Z",
     "iopub.status.busy": "2021-04-18T07:30:55.332161Z",
     "iopub.status.idle": "2021-04-18T07:30:55.494601Z",
     "shell.execute_reply": "2021-04-18T07:30:55.494079Z"
    },
    "papermill": {
     "duration": 0.195143,
     "end_time": "2021-04-18T07:30:55.494744",
     "exception": false,
     "start_time": "2021-04-18T07:30:55.299601",
     "status": "completed"
    },
    "tags": []
   },
   "outputs": [
    {
     "data": {
      "text/plain": [
       "<matplotlib.image.AxesImage at 0x7f677c05c310>"
      ]
     },
     "execution_count": 4,
     "metadata": {},
     "output_type": "execute_result"
    },
    {
     "data": {
      "image/png": "[encoded data removed]",
      "text/plain": [
       "<Figure size 432x288 with 1 Axes>"
      ]
     },
     "metadata": {
      "needs_background": "light"
     },
     "output_type": "display_data"
    }
   ],
   "source": [
    "plt.imshow(faces[0], cmap='gray')"
   ]
  },
  {
   "cell_type": "markdown",
   "id": "english-switch",
   "metadata": {
    "papermill": {
     "duration": 0.014319,
     "end_time": "2021-04-18T07:30:55.523565",
     "exception": false,
     "start_time": "2021-04-18T07:30:55.509246",
     "status": "completed"
    },
    "tags": []
   },
   "source": [
    "### Average face"
   ]
  },
  {
   "cell_type": "code",
   "execution_count": 5,
   "id": "powered-pendant",
   "metadata": {
    "execution": {
     "iopub.execute_input": "2021-04-18T07:30:55.559736Z",
     "iopub.status.busy": "2021-04-18T07:30:55.559078Z",
     "iopub.status.idle": "2021-04-18T07:30:55.712116Z",
     "shell.execute_reply": "2021-04-18T07:30:55.711610Z"
    },
    "papermill": {
     "duration": 0.173474,
     "end_time": "2021-04-18T07:30:55.712266",
     "exception": false,
     "start_time": "2021-04-18T07:30:55.538792",
     "status": "completed"
    },
    "tags": []
   },
   "outputs": [
    {
     "name": "stdout",
     "output_type": "stream",
     "text": [
      "avgFace.shape: (64, 64)\n"
     ]
    },
    {
     "data": {
      "text/plain": [
       "<matplotlib.image.AxesImage at 0x7f677c0a2f10>"
      ]
     },
     "execution_count": 5,
     "metadata": {},
     "output_type": "execute_result"
    },
    {
     "data": {
      "image/png": "[encoded data removed]",
      "text/plain": [
       "<Figure size 432x288 with 1 Axes>"
      ]
     },
     "metadata": {
      "needs_background": "light"
     },
     "output_type": "display_data"
    }
   ],
   "source": [
    "avgFace = np.average(faces, axis=0)\n",
    "print('avgFace.shape:',avgFace.shape)\n",
    "plt.imshow(avgFace, cmap='gray')"
   ]
  },
  {
   "cell_type": "code",
   "execution_count": 6,
   "id": "opponent-revision",
   "metadata": {
    "execution": {
     "iopub.execute_input": "2021-04-18T07:30:55.750550Z",
     "iopub.status.busy": "2021-04-18T07:30:55.749892Z",
     "iopub.status.idle": "2021-04-18T07:30:55.757630Z",
     "shell.execute_reply": "2021-04-18T07:30:55.756969Z"
    },
    "papermill": {
     "duration": 0.029048,
     "end_time": "2021-04-18T07:30:55.757772",
     "exception": false,
     "start_time": "2021-04-18T07:30:55.728724",
     "status": "completed"
    },
    "tags": []
   },
   "outputs": [],
   "source": [
    "#Subtracting mean from all the samples\n",
    "X = faces\n",
    "X = X.reshape((X.shape[0], X.shape[1]**2))\n",
    "X = X - np.average(X, axis=0)"
   ]
  },
  {
   "cell_type": "code",
   "execution_count": 7,
   "id": "norman-college",
   "metadata": {
    "execution": {
     "iopub.execute_input": "2021-04-18T07:30:55.822249Z",
     "iopub.status.busy": "2021-04-18T07:30:55.821207Z",
     "iopub.status.idle": "2021-04-18T07:30:55.938852Z",
     "shell.execute_reply": "2021-04-18T07:30:55.938288Z"
    },
    "papermill": {
     "duration": 0.164973,
     "end_time": "2021-04-18T07:30:55.939012",
     "exception": false,
     "start_time": "2021-04-18T07:30:55.774039",
     "status": "completed"
    },
    "tags": []
   },
   "outputs": [
    {
     "data": {
      "text/plain": [
       "<matplotlib.image.AxesImage at 0x7f67770183d0>"
      ]
     },
     "execution_count": 7,
     "metadata": {},
     "output_type": "execute_result"
    },
    {
     "data": {
      "image/png": "[encoded data removed]",
      "text/plain": [
       "<Figure size 432x288 with 1 Axes>"
      ]
     },
     "metadata": {
      "needs_background": "light"
     },
     "output_type": "display_data"
    }
   ],
   "source": [
    "plt.imshow(avgFace + X[0].reshape(64,64), cmap='gray')"
   ]
  },
  {
   "cell_type": "markdown",
   "id": "encouraging-clear",
   "metadata": {
    "papermill": {
     "duration": 0.017013,
     "end_time": "2021-04-18T07:30:55.973687",
     "exception": false,
     "start_time": "2021-04-18T07:30:55.956674",
     "status": "completed"
    },
    "tags": []
   },
   "source": [
    "### Computing covariance matrix"
   ]
  },
  {
   "cell_type": "code",
   "execution_count": 8,
   "id": "front-standard",
   "metadata": {
    "execution": {
     "iopub.execute_input": "2021-04-18T07:30:56.025845Z",
     "iopub.status.busy": "2021-04-18T07:30:56.024738Z",
     "iopub.status.idle": "2021-04-18T07:30:56.204587Z",
     "shell.execute_reply": "2021-04-18T07:30:56.203732Z"
    },
    "papermill": {
     "duration": 0.213438,
     "end_time": "2021-04-18T07:30:56.204744",
     "exception": false,
     "start_time": "2021-04-18T07:30:55.991306",
     "status": "completed"
    },
    "tags": []
   },
   "outputs": [
    {
     "name": "stdout",
     "output_type": "stream",
     "text": [
      "XtX.shape: (4096, 4096)\n"
     ]
    }
   ],
   "source": [
    "XtX = np.matmul(X.T, X)\n",
    "print('XtX.shape:', XtX.shape)"
   ]
  },
  {
   "cell_type": "code",
   "execution_count": 9,
   "id": "sustainable-pacific",
   "metadata": {
    "execution": {
     "iopub.execute_input": "2021-04-18T07:30:56.246508Z",
     "iopub.status.busy": "2021-04-18T07:30:56.245804Z",
     "iopub.status.idle": "2021-04-18T07:30:56.277231Z",
     "shell.execute_reply": "2021-04-18T07:30:56.277902Z"
    },
    "papermill": {
     "duration": 0.055046,
     "end_time": "2021-04-18T07:30:56.278100",
     "exception": false,
     "start_time": "2021-04-18T07:30:56.223054",
     "status": "completed"
    },
    "tags": []
   },
   "outputs": [],
   "source": [
    "C = (1/X.shape[0])*XtX"
   ]
  },
  {
   "cell_type": "markdown",
   "id": "resident-liquid",
   "metadata": {
    "papermill": {
     "duration": 0.018275,
     "end_time": "2021-04-18T07:30:56.314870",
     "exception": false,
     "start_time": "2021-04-18T07:30:56.296595",
     "status": "completed"
    },
    "tags": []
   },
   "source": [
    "Finding eigen vectors (which are also the orthonormal directions) of the covariance matrix."
   ]
  },
  {
   "cell_type": "code",
   "execution_count": 10,
   "id": "choice-divide",
   "metadata": {
    "execution": {
     "iopub.execute_input": "2021-04-18T07:30:56.355940Z",
     "iopub.status.busy": "2021-04-18T07:30:56.355227Z",
     "iopub.status.idle": "2021-04-18T07:31:57.071700Z",
     "shell.execute_reply": "2021-04-18T07:31:57.070961Z"
    },
    "papermill": {
     "duration": 60.738738,
     "end_time": "2021-04-18T07:31:57.071850",
     "exception": false,
     "start_time": "2021-04-18T07:30:56.333112",
     "status": "completed"
    },
    "tags": []
   },
   "outputs": [],
   "source": [
    "w, v = LA.eig(C)"
   ]
  },
  {
   "cell_type": "markdown",
   "id": "recent-church",
   "metadata": {
    "papermill": {
     "duration": 0.01834,
     "end_time": "2021-04-18T07:31:57.108601",
     "exception": false,
     "start_time": "2021-04-18T07:31:57.090261",
     "status": "completed"
    },
    "tags": []
   },
   "source": [
    "Expressing any samples as a linear combination of the eigen vectors:<br/>\n",
    "$x_i = \\alpha_1 v_1 + \\alpha_2 v_2 + ................+\\alpha_d v_d$\n",
    "<br/>\n",
    "To find $\\alpha_1$:\n",
    "<br/>\n",
    "$v_1^T x_i = \\alpha_1(v_1^T  v_1) + \\alpha_2(v_1^T v_2)  +.........+ \\alpha_d(v_1^T v_d)$\n",
    "<br/>\n",
    "$v_1^T x_i = \\alpha_1.1 + \\alpha_2.0 +............+\\alpha_d.0$     $\\;\\;\\;\\;\\;\\;$  (Since $v_1$, $v_2$,....$v_d$ are orthonormal to each other.)\n",
    "<br/>\n",
    "$\\implies \\alpha_1 = v_1^T x_i$\n",
    "<br/>\n",
    "Similarly all other $\\alpha$ can also be found out.\n",
    "<br/>\n",
    "<br/>\n",
    "<br/>\n",
    "* Instead of including all the eigen vectors, we can take only a small fraction of them and the reconstructed image will be a good match with the origianl image.\n",
    "<br/>\n",
    "* Suppose we take only 100 eigen vectors (out of 4096 in this case) corresponding to top 100 eigen values:"
   ]
  },
  {
   "cell_type": "code",
   "execution_count": 11,
   "id": "radical-depression",
   "metadata": {
    "execution": {
     "iopub.execute_input": "2021-04-18T07:31:57.181616Z",
     "iopub.status.busy": "2021-04-18T07:31:57.170848Z",
     "iopub.status.idle": "2021-04-18T07:31:57.453695Z",
     "shell.execute_reply": "2021-04-18T07:31:57.454140Z"
    },
    "papermill": {
     "duration": 0.327495,
     "end_time": "2021-04-18T07:31:57.454309",
     "exception": false,
     "start_time": "2021-04-18T07:31:57.126814",
     "status": "completed"
    },
    "tags": []
   },
   "outputs": [
    {
     "data": {
      "image/png": "[encoded data removed]",
      "text/plain": [
       "<Figure size 432x288 with 2 Axes>"
      ]
     },
     "metadata": {
      "needs_background": "light"
     },
     "output_type": "display_data"
    }
   ],
   "source": [
    "numComponents = 100\n",
    "V = v[:,0:numComponents]\n",
    "V.shape\n",
    "\n",
    "person_id = 25\n",
    "fig,a =  plt.subplots(1,2)\n",
    "import numpy as np\n",
    "x = np.arange(1,5)\n",
    "a[0].imshow(avgFace + X[person_id].reshape(64,64), cmap='gray')\n",
    "a[0].set_title('Original')\n",
    "\n",
    "alphas = np.dot(V.T, X[person_id])\n",
    "a[1].imshow(avgFace + np.dot(V, alphas).reshape(64,64), cmap='gray')\n",
    "a[1].set_title('Compressed:' + str(numComponents))\n",
    "plt.show()"
   ]
  },
  {
   "cell_type": "markdown",
   "id": "surgical-affect",
   "metadata": {
    "papermill": {
     "duration": 0.019642,
     "end_time": "2021-04-18T07:31:57.494415",
     "exception": false,
     "start_time": "2021-04-18T07:31:57.474773",
     "status": "completed"
    },
    "tags": []
   },
   "source": [
    "* We can see that the reconstructed image is very similar to the original image."
   ]
  },
  {
   "cell_type": "markdown",
   "id": "speaking-remark",
   "metadata": {
    "papermill": {
     "duration": 0.019734,
     "end_time": "2021-04-18T07:31:57.534156",
     "exception": false,
     "start_time": "2021-04-18T07:31:57.514422",
     "status": "completed"
    },
    "tags": []
   },
   "source": [
    "## PCA allows us to compress the data by only storing the 'important' information "
   ]
  },
  {
   "cell_type": "markdown",
   "id": "recognized-quantity",
   "metadata": {
    "papermill": {
     "duration": 0.019658,
     "end_time": "2021-04-18T07:31:57.573991",
     "exception": false,
     "start_time": "2021-04-18T07:31:57.554333",
     "status": "completed"
    },
    "tags": []
   },
   "source": [
    "* Suppose we had 1 million gray scale images each of size 64X64. We would have to store $(10^6)(64)(64) = 4.096 X10^9$ values.\n",
    "* But if we do PCA and pick only the top r eigen vectors then:\n",
    "<br>\n",
    "we need to store only the r eigen vectors(of dim 4096) and r $\\alpha$ for each of the one million images: $(4096*r + 10^6 * r)$\n",
    "<br/>\n",
    "If r = 100 then we need to store only about $~10^8$ values. That means, we will need 10 times lesser memory to store all the images."
   ]
  },
  {
   "cell_type": "code",
   "execution_count": null,
   "id": "constant-socket",
   "metadata": {
    "papermill": {
     "duration": 0.019648,
     "end_time": "2021-04-18T07:31:57.613683",
     "exception": false,
     "start_time": "2021-04-18T07:31:57.594035",
     "status": "completed"
    },
    "tags": []
   },
   "outputs": [],
   "source": []
  }
 ],
 "metadata": {
  "kernelspec": {
   "display_name": "Python 3",
   "language": "python",
   "name": "python3"
  },
  "language_info": {
   "codemirror_mode": {
    "name": "ipython",
    "version": 3
   },
   "file_extension": ".py",
   "mimetype": "text/x-python",
   "name": "python",
   "nbconvert_exporter": "python",
   "pygments_lexer": "ipython3",
   "version": "3.7.9"
  },
  "papermill": {
   "default_parameters": {},
   "duration": 69.409538,
   "end_time": "2021-04-18T07:31:58.244202",
   "environment_variables": {},
   "exception": null,
   "input_path": "__notebook__.ipynb",
   "output_path": "__notebook__.ipynb",
   "parameters": {},
   "start_time": "2021-04-18T07:30:48.834664",
   "version": "2.3.2"
  }
 },
 "nbformat": 4,
 "nbformat_minor": 5
}
